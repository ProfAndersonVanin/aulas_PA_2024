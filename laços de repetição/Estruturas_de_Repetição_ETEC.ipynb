{
  "nbformat": 4,
  "nbformat_minor": 0,
  "metadata": {
    "colab": {
      "provenance": [],
      "authorship_tag": "ABX9TyPckciuX1R6RABgNU/mqc8U",
      "include_colab_link": true
    },
    "kernelspec": {
      "name": "python3",
      "display_name": "Python 3"
    },
    "language_info": {
      "name": "python"
    }
  },
  "cells": [
    {
      "cell_type": "markdown",
      "metadata": {
        "id": "view-in-github",
        "colab_type": "text"
      },
      "source": [
        "<a href=\"https://colab.research.google.com/github/ProfAndersonVanin/aulas_PA_2024/blob/main/Estruturas_de_Repeti%C3%A7%C3%A3o_ETEC.ipynb\" target=\"_parent\"><img src=\"https://colab.research.google.com/assets/colab-badge.svg\" alt=\"Open In Colab\"/></a>"
      ]
    },
    {
      "cell_type": "code",
      "execution_count": 1,
      "metadata": {
        "colab": {
          "base_uri": "https://localhost:8080/"
        },
        "id": "5AOHvvbwXpVP",
        "outputId": "2640b4f8-1f65-4ccc-951a-2cdc54bb0f06"
      },
      "outputs": [
        {
          "output_type": "stream",
          "name": "stdout",
          "text": [
            "BOM DIA!\n",
            "BOM DIA!\n",
            "BOM DIA!\n",
            "BOM DIA!\n",
            "BOM DIA!\n",
            "BOM DIA!\n",
            "BOM DIA!\n",
            "BOM DIA!\n",
            "BOM DIA!\n",
            "BOM DIA!\n"
          ]
        }
      ],
      "source": [
        "# IMPRIMIR NA TELA A FRASE \"BOM DIA\" 10 VEZES\n",
        "print(\"BOM DIA!\")\n",
        "print(\"BOM DIA!\")\n",
        "print(\"BOM DIA!\")\n",
        "print(\"BOM DIA!\")\n",
        "print(\"BOM DIA!\")\n",
        "print(\"BOM DIA!\")\n",
        "print(\"BOM DIA!\")\n",
        "print(\"BOM DIA!\")\n",
        "print(\"BOM DIA!\")\n",
        "print(\"BOM DIA!\")"
      ]
    },
    {
      "cell_type": "code",
      "source": [
        "# LAÇO DE REPETIÇÃO FOR\n",
        "for i in range(1,11):\n",
        "  #print(i)\n",
        "  print(i,\" - BOM DIA!\")"
      ],
      "metadata": {
        "colab": {
          "base_uri": "https://localhost:8080/"
        },
        "id": "MKltTrB4ZraR",
        "outputId": "25bcf20e-b074-4916-f49a-565170c595bb"
      },
      "execution_count": 7,
      "outputs": [
        {
          "output_type": "stream",
          "name": "stdout",
          "text": [
            "1  - BOM DIA!\n",
            "2  - BOM DIA!\n",
            "3  - BOM DIA!\n",
            "4  - BOM DIA!\n",
            "5  - BOM DIA!\n",
            "6  - BOM DIA!\n",
            "7  - BOM DIA!\n",
            "8  - BOM DIA!\n",
            "9  - BOM DIA!\n",
            "10  - BOM DIA!\n"
          ]
        }
      ]
    },
    {
      "cell_type": "code",
      "source": [
        "# MOSTRAR TODOS OS NÚMEROS ÍMPARES DE 1 A 30\n",
        "for i in range(1,31):\n",
        "  if i%2 == 1:\n",
        "    print(i)\n",
        ""
      ],
      "metadata": {
        "colab": {
          "base_uri": "https://localhost:8080/"
        },
        "id": "yxxTWB9NbfRi",
        "outputId": "9df310e2-0f31-401f-9836-d0d5e857a8b2"
      },
      "execution_count": 9,
      "outputs": [
        {
          "output_type": "stream",
          "name": "stdout",
          "text": [
            "1\n",
            "3\n",
            "5\n",
            "7\n",
            "9\n",
            "11\n",
            "13\n",
            "15\n",
            "17\n",
            "19\n",
            "21\n",
            "23\n",
            "25\n",
            "27\n",
            "29\n"
          ]
        }
      ]
    },
    {
      "cell_type": "code",
      "source": [
        "# CONTADOR DE UM NÚMERO INCIAL E UM NÚMERO FINAL\n",
        "# DIGITADOS PELO USUÁRIO\n",
        "\n",
        "inicio = int(input('Digite o 1º número: '))\n",
        "fim = int(input('Digite o 2º número: '))\n",
        "\n",
        "if inicio>fim:\n",
        "  #aux = inicio\n",
        "  #inicio = fim\n",
        "  #fim = aux\n",
        "\n",
        "  inicio,fim = fim,inicio\n",
        "\n",
        "for x in range(inicio,fim+1):\n",
        "  print(x)"
      ],
      "metadata": {
        "colab": {
          "base_uri": "https://localhost:8080/"
        },
        "id": "rP_yfOokfW9-",
        "outputId": "67955089-413b-46d5-83ed-2382f01f363a"
      },
      "execution_count": 16,
      "outputs": [
        {
          "output_type": "stream",
          "name": "stdout",
          "text": [
            "Digite o 1º número: 7\n",
            "Digite o 2º número: 2\n",
            "2\n",
            "3\n",
            "4\n",
            "5\n",
            "6\n",
            "7\n"
          ]
        }
      ]
    },
    {
      "cell_type": "code",
      "source": [
        "# SOME TODOS OS NÚMEROS DE 1 A 10\n",
        "soma = 0\n",
        "for a in range(1,11):\n",
        "  soma = soma + a\n",
        "  print('Acumulado => ',soma)\n",
        "\n",
        "print('Total => ',soma)"
      ],
      "metadata": {
        "colab": {
          "base_uri": "https://localhost:8080/"
        },
        "id": "hZA7C8aFjQeZ",
        "outputId": "773cfdc4-b6d5-451c-a051-62a0b801bbd6"
      },
      "execution_count": 19,
      "outputs": [
        {
          "output_type": "stream",
          "name": "stdout",
          "text": [
            "Acumulado =>  1\n",
            "Acumulado =>  3\n",
            "Acumulado =>  6\n",
            "Acumulado =>  10\n",
            "Acumulado =>  15\n",
            "Acumulado =>  21\n",
            "Acumulado =>  28\n",
            "Acumulado =>  36\n",
            "Acumulado =>  45\n",
            "Acumulado =>  55\n",
            "Total =>  55\n"
          ]
        }
      ]
    },
    {
      "cell_type": "code",
      "source": [
        "# SOMA DE ÍMPARES DE 1 ATE 100\n",
        "soma=0\n",
        "for x in range(1,101):\n",
        "  if x%2 == 1:\n",
        "    soma = soma + x\n",
        "\n",
        "print(\"Total => \",soma)"
      ],
      "metadata": {
        "colab": {
          "base_uri": "https://localhost:8080/"
        },
        "id": "Kamm3XmqlU00",
        "outputId": "55c5e8e8-c9ef-4822-ac79-58617d4487ba"
      },
      "execution_count": 22,
      "outputs": [
        {
          "output_type": "stream",
          "name": "stdout",
          "text": [
            "Total =>  2500\n"
          ]
        }
      ]
    },
    {
      "cell_type": "code",
      "source": [
        "# CONTADOR DE 1 A 10 COM WHILE\n",
        "\n",
        "num = 1\n",
        "while (num<=10):\n",
        "  print(num)\n",
        "  #num = num + 1\n",
        "  num += 1"
      ],
      "metadata": {
        "colab": {
          "base_uri": "https://localhost:8080/"
        },
        "id": "gtjSsqU0n__K",
        "outputId": "de4da659-7d31-4c0a-a27a-9b9f5ea80dd9"
      },
      "execution_count": 26,
      "outputs": [
        {
          "output_type": "stream",
          "name": "stdout",
          "text": [
            "1\n",
            "2\n",
            "3\n",
            "4\n",
            "5\n",
            "6\n",
            "7\n",
            "8\n",
            "9\n",
            "10\n"
          ]
        }
      ]
    },
    {
      "cell_type": "code",
      "source": [
        "# DIGITE NÚMEROS ATÉ QUE O USUÁRIO DIGITE 0\n",
        "\n",
        "numero = int(input('Digite um número'))\n",
        "while numero != 0:\n",
        "  numero = int(input('Digite um número'))\n"
      ],
      "metadata": {
        "id": "Kn5WtqK8pmRB"
      },
      "execution_count": null,
      "outputs": []
    },
    {
      "cell_type": "code",
      "source": [
        "# SOMAR NÚMEROS ATÉ QUE O USUÁRIO DIGITE 0\n",
        "numero = int(input('Digite um número'))\n",
        "soma = numero\n",
        "while numero != 0:\n",
        "  numero = int(input('Digite um número'))\n",
        "  soma += numero\n",
        "\n",
        "print(\"Total = \",soma)\n"
      ],
      "metadata": {
        "colab": {
          "base_uri": "https://localhost:8080/"
        },
        "id": "NTTcZTvTxLvg",
        "outputId": "a991512c-ceac-4f33-98df-e064b7c3891e"
      },
      "execution_count": 29,
      "outputs": [
        {
          "output_type": "stream",
          "name": "stdout",
          "text": [
            "Digite um número1\n",
            "Digite um número2\n",
            "Digite um número3\n",
            "Digite um número0\n",
            "Total =  6\n"
          ]
        }
      ]
    },
    {
      "cell_type": "code",
      "source": [
        "# CRIANDO UM MENU DE OPÇÕES\n",
        "opcao = 0\n",
        "while opcao != 4:\n",
        "  print(\"ESCOLHA UMA OPÇÃO:\")\n",
        "  print(\"Digite 1 para OPÇÃO 01\")\n",
        "  print(\"Digite 2 para OPÇÃO 02\")\n",
        "  print(\"Digite 3 para OPÇÃO 03\")\n",
        "  print(\"Digite 4 para SAIR\")\n",
        "  opcao = int(input(\"Sua opção => \"))\n",
        "\n",
        "  if opcao == 1:\n",
        "    print('Você escolheu a opção 01')\n",
        "    print()\n",
        "    print('**********************************')\n",
        "  if opcao == 2:\n",
        "    print('Você escolheu a opção 02')\n",
        "    print()\n",
        "    print('**********************************')\n",
        "  if opcao == 3:\n",
        "    print('Você escolheu a opção 03')\n",
        "    print()\n",
        "    print('**********************************')\n",
        "\n"
      ],
      "metadata": {
        "colab": {
          "base_uri": "https://localhost:8080/"
        },
        "id": "cAioabnGy3IV",
        "outputId": "864f43cc-1358-4c42-8988-7983db7d846d"
      },
      "execution_count": 32,
      "outputs": [
        {
          "name": "stdout",
          "output_type": "stream",
          "text": [
            "ESCOLHA UMA OPÇÃO:\n",
            "Digite 1 para OPÇÃO 01\n",
            "Digite 2 para OPÇÃO 02\n",
            "Digite 3 para OPÇÃO 03\n",
            "Digite 4 para SAIR\n",
            "Sua opção => 2\n",
            "Você escolheu a opção 02\n",
            "\n",
            "**********************************\n",
            "ESCOLHA UMA OPÇÃO:\n",
            "Digite 1 para OPÇÃO 01\n",
            "Digite 2 para OPÇÃO 02\n",
            "Digite 3 para OPÇÃO 03\n",
            "Digite 4 para SAIR\n",
            "Sua opção => 3\n",
            "Você escolheu a opção 03\n",
            "\n",
            "**********************************\n",
            "ESCOLHA UMA OPÇÃO:\n",
            "Digite 1 para OPÇÃO 01\n",
            "Digite 2 para OPÇÃO 02\n",
            "Digite 3 para OPÇÃO 03\n",
            "Digite 4 para SAIR\n",
            "Sua opção => 4\n"
          ]
        }
      ]
    },
    {
      "cell_type": "markdown",
      "source": [
        "Faça um programa que mostre os n termos da Série a seguir:\n",
        "\n",
        "![image.png](data:image/png;base64,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)"
      ],
      "metadata": {
        "id": "Wmhbl5od2tHf"
      }
    },
    {
      "cell_type": "code",
      "source": [],
      "metadata": {
        "id": "Sc6qQqoC2ykN"
      },
      "execution_count": null,
      "outputs": []
    }
  ]
}