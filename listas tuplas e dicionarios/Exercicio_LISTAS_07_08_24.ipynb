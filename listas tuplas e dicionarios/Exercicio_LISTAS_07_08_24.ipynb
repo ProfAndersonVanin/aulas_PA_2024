{
  "nbformat": 4,
  "nbformat_minor": 0,
  "metadata": {
    "colab": {
      "provenance": [],
      "include_colab_link": true
    },
    "kernelspec": {
      "name": "python3",
      "display_name": "Python 3"
    },
    "language_info": {
      "name": "python"
    }
  },
  "cells": [
    {
      "cell_type": "markdown",
      "metadata": {
        "id": "view-in-github",
        "colab_type": "text"
      },
      "source": [
        "<a href=\"https://colab.research.google.com/github/ProfAndersonVanin/aulas_PA_2024/blob/main/Exercicio_LISTAS_07_08_24.ipynb\" target=\"_parent\"><img src=\"https://colab.research.google.com/assets/colab-badge.svg\" alt=\"Open In Colab\"/></a>"
      ]
    },
    {
      "cell_type": "markdown",
      "source": [
        "# **Exercícios utilizando Listas Python**"
      ],
      "metadata": {
        "id": "Fv1r44TLwVKM"
      }
    },
    {
      "cell_type": "markdown",
      "source": [
        "## 1. Soma dos Elementos da Lista\n",
        "Dada uma lista de números, calcule a soma de todos os elementos."
      ],
      "metadata": {
        "id": "b9nEDJF0wjrc"
      }
    },
    {
      "cell_type": "code",
      "execution_count": null,
      "metadata": {
        "id": "woHYcqQCwA-u"
      },
      "outputs": [],
      "source": [
        "# Seu código aqui...\n",
        "lista = [1, 2, 3, 4, 5]"
      ]
    },
    {
      "cell_type": "markdown",
      "source": [
        "## 2. Produto dos elementos da lista\n",
        "Dada uma lista de números, calcule o produto de todos os elementos."
      ],
      "metadata": {
        "id": "jRKcmWKiw0z8"
      }
    },
    {
      "cell_type": "code",
      "source": [
        "# Seu código aqui...\n",
        "lista2 = [1, 2, 3, 4, 5]"
      ],
      "metadata": {
        "id": "fLbEGjowwaZe"
      },
      "execution_count": null,
      "outputs": []
    },
    {
      "cell_type": "markdown",
      "source": [
        "## 3. Encontre o menor elemento\n",
        "Dada uma lista de números, encontre o menor elemento."
      ],
      "metadata": {
        "id": "-Er6OsAyxFQj"
      }
    },
    {
      "cell_type": "code",
      "source": [
        "# Seu código aqui...\n",
        "lista3 = [1, 2, 3, 4, 5]"
      ],
      "metadata": {
        "id": "KVoiJ_u0xKvc"
      },
      "execution_count": null,
      "outputs": []
    },
    {
      "cell_type": "markdown",
      "source": [
        "## 4. Encontre o maior elemento\n",
        "Dada uma lista de números, encontre o maior elemento."
      ],
      "metadata": {
        "id": "WXYaMI7FxQXk"
      }
    },
    {
      "cell_type": "code",
      "source": [
        "# Seu código aqui...\n",
        "lista4 = [1, 2, 3, 4, 5]"
      ],
      "metadata": {
        "id": "DoNhSLyuxb19"
      },
      "execution_count": null,
      "outputs": []
    },
    {
      "cell_type": "markdown",
      "source": [
        "## 5. Contar Ocorrências de um Elemento\n",
        "Dada uma lista de números e um número alvo, conte quantas vezes o alvo aparece na lista."
      ],
      "metadata": {
        "id": "BkHVHCiPxgTs"
      }
    },
    {
      "cell_type": "code",
      "source": [
        "# Seu código aqui...\n",
        "lista5 = [1, 2, 3, 4, 3, 2, 1]"
      ],
      "metadata": {
        "id": "Hreq56gixmYC"
      },
      "execution_count": null,
      "outputs": []
    },
    {
      "cell_type": "markdown",
      "source": [
        "## 6. Remover duplicatas\n",
        "Dada uma lista de números, crie uma nova lista sem elementos duplicados."
      ],
      "metadata": {
        "id": "zSsy12F-xrVT"
      }
    },
    {
      "cell_type": "code",
      "source": [
        "# Seu código aqui...\n",
        "lista6 = [1, 2, 2, 3, 4, 4, 5]"
      ],
      "metadata": {
        "id": "9N35r8abxydM"
      },
      "execution_count": null,
      "outputs": []
    },
    {
      "cell_type": "markdown",
      "source": [
        "## 7. Inverter uma lista\n",
        "Dada uma lista de números, inverta a ordem dos elementos."
      ],
      "metadata": {
        "id": "Ev1YAUF9x3o8"
      }
    },
    {
      "cell_type": "code",
      "source": [
        "# Seu código aqui...\n",
        "lista6 = [1, 2, 3, 4, 5]"
      ],
      "metadata": {
        "id": "X8YLy9uqx9kz"
      },
      "execution_count": null,
      "outputs": []
    },
    {
      "cell_type": "markdown",
      "source": [
        "## 8. Intercalar Duas Listas\n",
        "Dadas duas listas de números, crie uma nova lista intercalando os elementos das duas listas."
      ],
      "metadata": {
        "id": "1k2bPDTPyB-L"
      }
    },
    {
      "cell_type": "code",
      "source": [
        "# Seu código aqui...\n",
        "lista81 = [1, 3, 5]\n",
        "lista82 = [2, 4, 6]"
      ],
      "metadata": {
        "id": "TXajIrGxyH3j"
      },
      "execution_count": null,
      "outputs": []
    },
    {
      "cell_type": "markdown",
      "source": [
        "## 9. Somar Elementos Correspondentes de Duas Listas\n",
        "Dadas duas listas de números de mesmo tamanho, crie uma nova lista com a soma dos elementos correspondentes."
      ],
      "metadata": {
        "id": "ewiPtV9MyP1q"
      }
    },
    {
      "cell_type": "code",
      "source": [
        "# Seu código aqui...\n",
        "lista91 = [1, 2, 3]\n",
        "lista92 = [4, 5, 6]"
      ],
      "metadata": {
        "id": "0-4qe89uyVWT"
      },
      "execution_count": null,
      "outputs": []
    },
    {
      "cell_type": "markdown",
      "source": [
        "## 10. Mover Zeros para o Fim\n",
        "Dada uma lista de números, mova todos os zeros para o final da lista."
      ],
      "metadata": {
        "id": "QX-QkQg5ybQa"
      }
    },
    {
      "cell_type": "code",
      "source": [
        "# Seu código aqui...\n",
        "lista10 = [0, 1, 0, 3, 12]"
      ],
      "metadata": {
        "id": "i8jHZT30ygD6"
      },
      "execution_count": null,
      "outputs": []
    }
  ]
}