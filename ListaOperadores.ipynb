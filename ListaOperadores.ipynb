{
  "nbformat": 4,
  "nbformat_minor": 0,
  "metadata": {
    "colab": {
      "provenance": [],
      "authorship_tag": "ABX9TyNpVkyHqzxUttcg4BiWCnsx",
      "include_colab_link": true
    },
    "kernelspec": {
      "name": "python3",
      "display_name": "Python 3"
    },
    "language_info": {
      "name": "python"
    }
  },
  "cells": [
    {
      "cell_type": "markdown",
      "metadata": {
        "id": "view-in-github",
        "colab_type": "text"
      },
      "source": [
        "<a href=\"https://colab.research.google.com/github/ProfAndersonVanin/aulas_PA_2024/blob/main/ListaOperadores.ipynb\" target=\"_parent\"><img src=\"https://colab.research.google.com/assets/colab-badge.svg\" alt=\"Open In Colab\"/></a>"
      ]
    },
    {
      "cell_type": "markdown",
      "source": [
        "# **RESOLUÇÃO DOS EXERCÍCIOS DE OPERADORES LÓGICOS**"
      ],
      "metadata": {
        "id": "b6ydlMhORFtu"
      }
    },
    {
      "cell_type": "markdown",
      "source": [
        "1 - Suponha que w = F, x = V e z = V. Resolva as expressões:\n",
        "\n",
        "Nota: F = Falso e V = Verdadeiro\n",
        "\n",
        "a) x OU z E w\n",
        "\n",
        "b) z XOU x E x\n",
        "\n",
        "c) z OU z OU w E x\n",
        "\n",
        "d) x E z E w OU NÃO w"
      ],
      "metadata": {
        "id": "dov_1OReTcEa"
      }
    },
    {
      "cell_type": "code",
      "source": [
        "w = False\n",
        "x = True\n",
        "z = True\n",
        "\n",
        "print(\"****  RESPOSTAS  *****\")\n",
        "a1 = x or z and w\n",
        "print(\"a ==> \", a1)\n",
        "\n",
        "b1 = z ^ x and x\n",
        "print(\"b ==> \", b1)\n",
        "\n",
        "c1 = z or z or w and x\n",
        "print(\"c ==> \", c1)\n",
        "\n",
        "d1 = x and z and w or not w\n",
        "print(\"d ==> \", d1)\n",
        "print(\"**********************\")"
      ],
      "metadata": {
        "colab": {
          "base_uri": "https://localhost:8080/"
        },
        "id": "uP1tzqvMSbsf",
        "outputId": "a6d5c3cc-7d0a-4519-b942-170030108f57"
      },
      "execution_count": 48,
      "outputs": [
        {
          "output_type": "stream",
          "name": "stdout",
          "text": [
            "****  RESPOSTAS  *****\n",
            "a ==>  True\n",
            "b ==>  False\n",
            "c ==>  True\n",
            "d ==>  True\n",
            "**********************\n"
          ]
        }
      ]
    },
    {
      "cell_type": "markdown",
      "source": [
        "2- Suponha as variáveis fruta = “maçã” e aux = 10. Resolva as expressões:\n",
        "\n",
        "a) (aux >= 10) OU (fruta == “pera”)\n",
        "\n",
        "b) (30 > aux) XOU (50 != 100/3) E (2 mod 2 > 0)\n",
        "\n",
        "c) (fruta == “maçã”) E (27 div 9 == 3) XOU (aux >= 300/100)\n"
      ],
      "metadata": {
        "id": "akJesUjHT5VR"
      }
    },
    {
      "cell_type": "code",
      "execution_count": 49,
      "metadata": {
        "colab": {
          "base_uri": "https://localhost:8080/"
        },
        "id": "51Ygn6C2Q7lH",
        "outputId": "e8fbdbce-06f3-4552-f54f-b5d2ab3899a3"
      },
      "outputs": [
        {
          "output_type": "stream",
          "name": "stdout",
          "text": [
            "****  RESPOSTAS  *****\n",
            "a ==>  True\n",
            "b ==>  False\n",
            "c ==>  False\n",
            "**********************\n"
          ]
        }
      ],
      "source": [
        "fruta = 'maçã'\n",
        "aux = 10\n",
        "\n",
        "print(\"****  RESPOSTAS  *****\")\n",
        "a2 = (aux >= 10) or (fruta == 'pera')\n",
        "print(\"a ==> \", a2)\n",
        "\n",
        "b2 = (30 > aux) ^ (50 != 100/3) and (2 % 2 > 0)\n",
        "print(\"b ==> \", b2)\n",
        "\n",
        "c2 = (fruta == 'maçã') and (27//9 == 3) ^ (aux >= 300/100)\n",
        "print(\"c ==> \", c2)\n",
        "print(\"**********************\")"
      ]
    },
    {
      "cell_type": "markdown",
      "source": [
        "3- Determine o resultado das seguintes expressões.\n",
        "\n",
        "Dados: A = 8, B = 5, C = -4 e D = 2.\n",
        "\n",
        "a) Delta = B² - 4 * A * C\n",
        "\n",
        "b) J = “Hoje” <> “HOJE”\n",
        "\n",
        "c)Media = (A + B + C + D)/4\n",
        "\n",
        "d)Media = A + B + C + D/4\n",
        "\n",
        "e)Resultado = A + B – 10 * C\n",
        "\n",
        "f)Y = A > 8 E B + C > D\n",
        "\n",
        "g)Y = A > 3 * 2 OU B + C <> D"
      ],
      "metadata": {
        "id": "8SbdQkhsUwTE"
      }
    },
    {
      "cell_type": "code",
      "source": [
        "a = 8\n",
        "b = 5\n",
        "c = -4\n",
        "d = 2\n",
        "\n",
        "print(\"****  RESPOSTAS  *****\")\n",
        "delta = b**2 - 4 * a * c\n",
        "print(\"a) Delta = \", delta)\n",
        "\n",
        "j = \"Hoje\" != \"HOJE\"\n",
        "print(\"b) J = \",j)\n",
        "\n",
        "media = (a + b + c + d)/4\n",
        "print(\"c) Media = \", media)\n",
        "\n",
        "media = a + b + c + d/4\n",
        "print(\"d) Media = \", media)\n",
        "\n",
        "resultado = a + b - 10 * c\n",
        "print(\"e) Resultado = \",resultado)\n",
        "\n",
        "y = a > 8 and b + c > d\n",
        "print(\"f) y = \",y)\n",
        "\n",
        "y = a > 3 * 2 or b + c != d\n",
        "print(\"g) y = \",y)\n",
        "print(\"**********************\")"
      ],
      "metadata": {
        "colab": {
          "base_uri": "https://localhost:8080/"
        },
        "id": "ZSwWNzYWU_ua",
        "outputId": "c490b97e-64c3-4cd1-ee6e-5f10408093be"
      },
      "execution_count": 50,
      "outputs": [
        {
          "output_type": "stream",
          "name": "stdout",
          "text": [
            "****  RESPOSTAS  *****\n",
            "a) Delta =  153\n",
            "b) J =  True\n",
            "c) Media =  2.75\n",
            "d) Media =  9.5\n",
            "e) Resultado =  53\n",
            "f) y =  False\n",
            "g) y =  True\n",
            "**********************\n"
          ]
        }
      ]
    },
    {
      "cell_type": "markdown",
      "source": [
        "4- Sabendo que A, B e C são variáveis do tipo inteiro, com valores iguais a 5, 10 e -8, respectivamente, e uma variável do tipo real D, com valor de 1,5. Quais os resultados das expressões aritméticas a seguir?     \n",
        "\n",
        "a) 2 * A mod 3 – C\n",
        "\n",
        "b) raizq(-2 * C) div 4\n",
        "\n",
        "c) ((20 div 3) div 3) + pot(8,2)/2\n",
        "\n",
        "d) (30 mod 4 * pot(3,3)) * -1\n",
        "\n",
        "e) pot(-C,2) + (D * 10)/A\n",
        "\n",
        "f) raizq(pot(A,B/A)) + C * D"
      ],
      "metadata": {
        "id": "eEdCcLlCWSR0"
      }
    },
    {
      "cell_type": "code",
      "source": [
        "a = 5\n",
        "b = 10\n",
        "c = -8\n",
        "d = 1.5\n",
        "\n",
        "print(\"****  RESPOSTAS  *****\")\n",
        "a4 = 2 * a % 3 - c\n",
        "print(\"a) ==> \", a4)\n",
        "\n",
        "import math\n",
        "b4 = math.sqrt(-2 * c) // 4\n",
        "# import math\n",
        "# numero = 16\n",
        "# raiz_quadrada = math.sqrt(numero)\n",
        "# print(raiz_quadrada) #4\n",
        "print(\"b) ==> \", b4)\n",
        "\n",
        "c4 = ((20 // 3) // 3) + 8**2 / 2\n",
        "print(\"c) ==> \", c4)\n",
        "\n",
        "d4 = (30 % 4 * 3**3) * -1\n",
        "print(\"d) ==> \", d4)\n",
        "\n",
        "e4 = -c ** 2 + (d * 10) / a\n",
        "print(\"e) ==> \", e4)\n",
        "\n",
        "f4 = math.sqrt(a**(b/a)) + c * d\n",
        "print(\"f) ==> \", f4)\n",
        "print(\"**********************\")"
      ],
      "metadata": {
        "colab": {
          "base_uri": "https://localhost:8080/"
        },
        "id": "R5E3ScJCWgKh",
        "outputId": "2df606ad-3786-4434-e5d4-94b2adde4017"
      },
      "execution_count": 51,
      "outputs": [
        {
          "output_type": "stream",
          "name": "stdout",
          "text": [
            "****  RESPOSTAS  *****\n",
            "a) ==>  9\n",
            "b) ==>  1.0\n",
            "c) ==>  34.0\n",
            "d) ==>  -54\n",
            "e) ==>  -61.0\n",
            "f) ==>  -7.0\n",
            "**********************\n"
          ]
        }
      ]
    },
    {
      "cell_type": "markdown",
      "source": [
        "5- Resolva as expressões lógicas a seguir:     \n",
        "\n",
        "a) 2 * 4 = 24/3\n",
        "\n",
        "b) 15 mod 4 < 19 mod 6\n",
        "\n",
        "c) 3 * 5 div 4 <= pot(3,2)/0,5\n",
        "\n",
        "d) 2 + 8 mod 7 >= 3 * 6 – 15\n",
        "\n",
        "e) 2 < 5 E 15/3 = 5\n",
        "\n",
        "f) 2 < 5 OU 15/3 = 5\n",
        "\n",
        "g) FALSO OU 20 div (18/3) <> (21/3) div 2\n",
        "\n",
        "h) NAO VERDADEIRO OU pot(3,2)/3 < 15 – 35 mod 7"
      ],
      "metadata": {
        "id": "RJaIP9WmYk5G"
      }
    },
    {
      "cell_type": "code",
      "source": [
        "print(\"****  RESPOSTAS  *****\")\n",
        "a5 = 2 * 4 == 24 / 3\n",
        "print(\"a ==> \", a5)\n",
        "\n",
        "b5 = 15 % 4 < 19 % 6\n",
        "print(\"b ==> \", b5)\n",
        "\n",
        "c5 = 3 * 5 // 4 <= (3**2)/0.5\n",
        "print(\"c ==> \", c5)\n",
        "\n",
        "d5 = 2 + 8 % 7 >= 3 * 6 - 15\n",
        "print(\"d ==> \", d5)\n",
        "\n",
        "e5 = 2 < 5 and 15/3 == 5\n",
        "print(\"e ==> \", e5)\n",
        "\n",
        "f5 = 2 < 5 or 15/3 == 5\n",
        "print(\"f ==> \", f5)\n",
        "\n",
        "g5 = False or 20 // (18/3) != (21/3) // 2\n",
        "print(\"g ==> \", g5)\n",
        "\n",
        "h5 = not True or (3**2)/3 < 15 - 35 % 7\n",
        "print(\"h ==> \", h5)\n",
        "print(\"**********************\")\n"
      ],
      "metadata": {
        "colab": {
          "base_uri": "https://localhost:8080/"
        },
        "id": "cj3tRnFIYzd8",
        "outputId": "cc87422b-1499-4010-99fb-2ccbabbfeff4"
      },
      "execution_count": 52,
      "outputs": [
        {
          "output_type": "stream",
          "name": "stdout",
          "text": [
            "****  RESPOSTAS  *****\n",
            "a ==>  True\n",
            "b ==>  False\n",
            "c ==>  True\n",
            "d ==>  True\n",
            "e ==>  True\n",
            "f ==>  True\n",
            "g ==>  False\n",
            "h ==>  True\n",
            "**********************\n"
          ]
        }
      ]
    },
    {
      "cell_type": "markdown",
      "source": [
        "6- Considerando as variáveis declaradas na tabela abaixo e mais a variável booleana TESTE, com valor FALSO, avalie as expressões a seguir, para cada uma das três combinações de valores apresentadas:\n",
        "\n",
        "![image.png](data:image/png;base64,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)\n",
        "\n",
        "a) (A + 1 >= ((B) ^ (1/2)) OU (NOME <> 'ANA'))\n",
        "\n",
        "b) (A + 1 >= ((B) ^ (1/2)) E (PROFISSAO = 'MEDICO'))\n",
        "\n",
        "c) (NOME <> 'ANA') OU (PROFISSAO = 'MEDICO') E (A + 1 >= ((B) ^ (1/2)))\n",
        "\n",
        "d) NÃO TESTE E ((A + 1) >= ((B) ^ (1/2)) OU NÃO (PROFISSAO = 'MEDICO'))\n",
        "\n",
        "e) NÃO (A + 1 >= ((B) ^ (1/2)) E TESTE)"
      ],
      "metadata": {
        "id": "wsZXf9z7aNS2"
      }
    },
    {
      "cell_type": "code",
      "source": [
        "# RESOLUÇÃO PARA O ÍTEM a\n",
        "# Linha 1\n",
        "A = 3\n",
        "B = 16\n",
        "NOME = 'MIRIAM'\n",
        "PROFISSAO = 'ADVOGADO'\n",
        "TESTE = False\n",
        "linha_a1 = (A + 1 >= ((B**(1/2))) or (NOME != 'ANA'))\n",
        "# Linha 2\n",
        "A = 5\n",
        "B = 64\n",
        "NOME = 'PEDRO'\n",
        "PROFISSAO = 'MEDICO'\n",
        "TESTE = False\n",
        "linha_a2 = (A + 1 >= ((B**(1/2))) or (NOME != 'ANA'))\n",
        "# Linha 3\n",
        "A = 2.5\n",
        "B = 9\n",
        "NOME = 'ANA'\n",
        "PROFISSAO = 'PROFESSOR'\n",
        "TESTE = False\n",
        "linha_a3 = (A + 1 >= ((B**(1/2))) or (NOME != 'ANA'))\n",
        "\n",
        "# RESOLUÇÃO PARA O ÍTEM b\n",
        "# Linha 1\n",
        "A = 3\n",
        "B = 16\n",
        "NOME = 'MIRIAM'\n",
        "PROFISSAO = 'ADVOGADO'\n",
        "TESTE = False\n",
        "linha_b1 = (A + 1 >= ((B**(1/2))) and (PROFISSAO == 'medico'))\n",
        "# Linha 2\n",
        "A = 5\n",
        "B = 64\n",
        "NOME = 'PEDRO'\n",
        "PROFISSAO = 'MEDICO'\n",
        "TESTE = False\n",
        "linha_b2 = (A + 1 >= ((B**(1/2))) and (PROFISSAO == 'medico'))\n",
        "# Linha 3\n",
        "A = 2.5\n",
        "B = 9\n",
        "NOME = 'ANA'\n",
        "PROFISSAO = 'PROFESSOR'\n",
        "TESTE = False\n",
        "linha_b3 = (A + 1 >= ((B**(1/2))) and (PROFISSAO == 'medico'))\n",
        "\n",
        "# RESOLUÇÃO PARA O ÍTEM c\n",
        "# (NOME <> 'ANA') OU (PROFISSAO = 'MEDICO') E (A + 1 >= ((B) ^ (1/2)))\n",
        "# Linha 1\n",
        "A = 3\n",
        "B = 16\n",
        "NOME = 'MIRIAM'\n",
        "PROFISSAO = 'ADVOGADO'\n",
        "TESTE = False\n",
        "linha_c1 = (NOME != 'ANA') or (PROFISSAO == 'MEDICO') and (A + 1 >= (B**(1/2)))\n",
        "# Linha 2\n",
        "A = 5\n",
        "B = 64\n",
        "NOME = 'PEDRO'\n",
        "PROFISSAO = 'MEDICO'\n",
        "TESTE = False\n",
        "linha_c2 = (NOME != 'ANA') or (PROFISSAO == 'MEDICO') and (A + 1 >= (B**(1/2)))\n",
        "# Linha 3\n",
        "A = 2.5\n",
        "B = 9\n",
        "NOME = 'ANA'\n",
        "PROFISSAO = 'PROFESSOR'\n",
        "TESTE = False\n",
        "linha_c3 = (NOME != 'ANA') or (PROFISSAO == 'MEDICO') and (A + 1 >= (B**(1/2)))\n",
        "\n",
        "# RESOLUÇÃO PARA O ÍTEM d\n",
        "# NÃO TESTE E ((A + 1) >= ((B) ^ (1/2)) OU NÃO (PROFISSAO = 'MEDICO'))\n",
        "# Linha 1\n",
        "A = 3\n",
        "B = 16\n",
        "NOME = 'MIRIAM'\n",
        "PROFISSAO = 'ADVOGADO'\n",
        "TESTE = False\n",
        "linha_d1 = not TESTE and (NOME != 'ANA') or (PROFISSAO == 'MEDICO') and (A + 1 >= (B**(1/2)))\n",
        "# Linha 2\n",
        "A = 5\n",
        "B = 64\n",
        "NOME = 'PEDRO'\n",
        "PROFISSAO = 'MEDICO'\n",
        "TESTE = False\n",
        "linha_d2 = not TESTE and (NOME != 'ANA') or (PROFISSAO == 'MEDICO') and (A + 1 >= (B**(1/2)))\n",
        "# Linha 3\n",
        "A = 2.5\n",
        "B = 9\n",
        "NOME = 'ANA'\n",
        "PROFISSAO = 'PROFESSOR'\n",
        "TESTE = False\n",
        "linha_d3 = not TESTE and (NOME != 'ANA') or (PROFISSAO == 'MEDICO') and (A + 1 >= (B**(1/2)))\n",
        "\n",
        "# RESOLUÇÃO PARA O ÍTEM e\n",
        "# NÃO (A + 1 >= ((B) ^ (1/2)) E TESTE)\n",
        "# Linha 1\n",
        "A = 3\n",
        "B = 16\n",
        "NOME = 'MIRIAM'\n",
        "PROFISSAO = 'ADVOGADO'\n",
        "TESTE = False\n",
        "linha_e1 = not (A + 1 >= (B**(1/2)) and TESTE)\n",
        "# Linha 2\n",
        "A = 5\n",
        "B = 64\n",
        "NOME = 'PEDRO'\n",
        "PROFISSAO = 'MEDICO'\n",
        "TESTE = False\n",
        "linha_e2 = not (A + 1 >= (B**(1/2)) and TESTE)\n",
        "# Linha 3\n",
        "A = 2.5\n",
        "B = 9\n",
        "NOME = 'ANA'\n",
        "PROFISSAO = 'PROFESSOR'\n",
        "TESTE = False\n",
        "linha_e3 = not (A + 1 >= (B**(1/2)) and TESTE)\n",
        "\n",
        "# RESPOSTAS\n",
        "print(\"****  RESPOSTAS  *****\")\n",
        "print()\n",
        "print(\"*********************************************************|\")\n",
        "print(\"|     |    a    |    b    |    c     |    d    |    e    |\")\n",
        "print(\"|*****|*********|*********|**********|*********|*********|\")\n",
        "print(\"|  1  | \",linha_a1,\"  | \",linha_b1,\" |  \",linha_c1,\"  |  \",linha_d1,\" | \",linha_e1,\"  |\")\n",
        "print(\"|*****|*********|*********|**********|*********|*********|\")\n",
        "print(\"|  2  | \",linha_a2,\"  | \",linha_b2,\" |  \",linha_c2,\"  |  \",linha_d2,\" | \",linha_e2,\"  |\")\n",
        "print(\"|*****|*********|*********|**********|*********|*********|\")\n",
        "print(\"|  3  | \",linha_a3,\"  | \",linha_b3,\" |  \",linha_c3,\" |  \",linha_d3,\"| \",linha_e3,\"  |\")\n",
        "print(\"*********************************************************|\")\n",
        "print()\n",
        "print(\"**********************\")"
      ],
      "metadata": {
        "colab": {
          "base_uri": "https://localhost:8080/"
        },
        "id": "vL86Q_gNasqO",
        "outputId": "5cf9ba34-1001-4cab-cc66-8148b066e2cb"
      },
      "execution_count": 53,
      "outputs": [
        {
          "output_type": "stream",
          "name": "stdout",
          "text": [
            "****  RESPOSTAS  *****\n",
            "\n",
            "*********************************************************|\n",
            "|     |    a    |    b    |    c     |    d    |    e    |\n",
            "|*****|*********|*********|**********|*********|*********|\n",
            "|  1  |  True   |  False  |   True   |   True  |  True   |\n",
            "|*****|*********|*********|**********|*********|*********|\n",
            "|  2  |  True   |  False  |   True   |   True  |  True   |\n",
            "|*****|*********|*********|**********|*********|*********|\n",
            "|  3  |  True   |  False  |   False  |   False |  True   |\n",
            "*********************************************************|\n",
            "\n",
            "**********************\n"
          ]
        }
      ]
    }
  ]
}