{
  "nbformat": 4,
  "nbformat_minor": 0,
  "metadata": {
    "colab": {
      "provenance": [],
      "include_colab_link": true
    },
    "kernelspec": {
      "name": "python3",
      "display_name": "Python 3"
    },
    "language_info": {
      "name": "python"
    }
  },
  "cells": [
    {
      "cell_type": "markdown",
      "metadata": {
        "id": "view-in-github",
        "colab_type": "text"
      },
      "source": [
        "<a href=\"https://colab.research.google.com/github/ProfAndersonVanin/aulas_PA_2024/blob/main/Exerc%C3%ADcios_Completos_ALUNOS_La%C3%A7os%2C_condicionais%2C_listas%2C_tuplas_e_dicion%C3%A1rios_.ipynb\" target=\"_parent\"><img src=\"https://colab.research.google.com/assets/colab-badge.svg\" alt=\"Open In Colab\"/></a>"
      ]
    },
    {
      "cell_type": "markdown",
      "source": [
        "Lista de Exercícios unindo tudo que foi ensinado até o momento:\n",
        "\n",
        "\n",
        "*   Condicionais\n",
        "*   Laços de Reptição\n",
        "*   Listas\n",
        "*   Tuplas\n",
        "*   Dicionários\n",
        "\n",
        "\n",
        "\n",
        "\n",
        "\n"
      ],
      "metadata": {
        "id": "JsFcwNObBRcd"
      }
    },
    {
      "cell_type": "markdown",
      "source": [
        "# Tuplas - Acesso e Desempacotamento\n",
        "\n",
        "1) Crie uma tupla contendo três tipos diferentes de dados: um número, uma string e uma lista. Use um laço de repetição para acessar e imprimir cada item da tupla. Além disso, dentro do laço, acesse e imprima o segundo item da lista que está dentro da tupla."
      ],
      "metadata": {
        "id": "HM91bKpkBqGI"
      }
    },
    {
      "cell_type": "code",
      "execution_count": null,
      "metadata": {
        "id": "22eK9fOuBPN5"
      },
      "outputs": [],
      "source": [
        "#seu código aqui ..."
      ]
    },
    {
      "cell_type": "markdown",
      "source": [
        "# Dicionários - Criação e Acesso\n",
        "## Cadastro de Pessoas e Análise de Alturas\n",
        "2) Solicite ao usuário para inserir o nome e a altura de várias pessoas. Preencha um dicionário com essas informações e depois encontre e imprima o nome e a altura da pessoa mais alta e da mais baixa."
      ],
      "metadata": {
        "id": "6vEHxGtjBxMi"
      }
    },
    {
      "cell_type": "code",
      "source": [
        "#seu código aqui ..."
      ],
      "metadata": {
        "id": "GMc0Ep9LB4_B"
      },
      "execution_count": null,
      "outputs": []
    },
    {
      "cell_type": "markdown",
      "source": [
        "# Lista, laços e Condicionais\n",
        "3) Descrição: Crie uma listacom cinco números inteiros. Use um laço de repetição e uma condicional para imprimir apenas os números que são múltiplos de 3."
      ],
      "metadata": {
        "id": "FytD4QZyELAt"
      }
    },
    {
      "cell_type": "code",
      "source": [
        "#seu código aqui ..."
      ],
      "metadata": {
        "id": "KyA8b0uyESKO"
      },
      "execution_count": null,
      "outputs": []
    },
    {
      "cell_type": "markdown",
      "source": [
        "# Manipulação de Strings e Condicionais\n",
        "4) Descrição: Crie uma string com uma frase. Use uma condicional para verificar se a frase contém a palavra \"Python\". Se sim, substitua a palavra \"Python\" por \"programação\" e imprima a nova frase."
      ],
      "metadata": {
        "id": "hwn3Fz8aEYSH"
      }
    },
    {
      "cell_type": "code",
      "source": [
        "#seu código aqui ..."
      ],
      "metadata": {
        "id": "wubGNcrXEsEK"
      },
      "execution_count": null,
      "outputs": []
    },
    {
      "cell_type": "markdown",
      "source": [
        "# Simulação de Alfândega com Cadastro Dinâmico de Itens\n",
        "5) Simule uma situação de alfândega onde o funcionário cadastra itens novos encontrados na mala de uma pessoa que veio de uma viagem internacional. Após o cadastro de todos os itens, o programa imprime uma nota com todos os itens e seus preços, calcula o valor total e, se o valor total ultrapassar 500 dólares, calcula o valor de 60% a ser pago."
      ],
      "metadata": {
        "id": "hPP-JNTxEwFT"
      }
    },
    {
      "cell_type": "code",
      "source": [
        "#seu código aqui ..."
      ],
      "metadata": {
        "id": "IphxQBLGF3zd"
      },
      "execution_count": null,
      "outputs": []
    }
  ]
}