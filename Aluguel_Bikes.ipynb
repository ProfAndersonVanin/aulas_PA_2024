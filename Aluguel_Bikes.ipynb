{
  "nbformat": 4,
  "nbformat_minor": 0,
  "metadata": {
    "colab": {
      "provenance": [],
      "authorship_tag": "ABX9TyPfK+D3H3PLC71VRLyck/Ql",
      "include_colab_link": true
    },
    "kernelspec": {
      "name": "python3",
      "display_name": "Python 3"
    },
    "language_info": {
      "name": "python"
    }
  },
  "cells": [
    {
      "cell_type": "markdown",
      "metadata": {
        "id": "view-in-github",
        "colab_type": "text"
      },
      "source": [
        "<a href=\"https://colab.research.google.com/github/ProfAndersonVanin/aulas_PA_2024/blob/main/Aluguel_Bikes.ipynb\" target=\"_parent\"><img src=\"https://colab.research.google.com/assets/colab-badge.svg\" alt=\"Open In Colab\"/></a>"
      ]
    },
    {
      "cell_type": "markdown",
      "source": [
        "# **Aula Introdutória de Análise de Dados**\n",
        "\n",
        "**Objetivo:**\n",
        "\n",
        "Nesta aula, você aprenderá o processo de análise de dados utilizando ferramentas como o Google Colab e bases de dados do Kaggle."
      ],
      "metadata": {
        "id": "nQ7vbGAon-sZ"
      }
    },
    {
      "cell_type": "markdown",
      "source": [
        "# **Principais Passos para Análise de Dados:**\n",
        "1. **Definição do Problema:**\n",
        "- Qual a questão a ser resolvida? O que esperamos descobrir com a análise?\n",
        "2. **Coleta de Dados:**\n",
        "- Obtenção de dados de fontes como APIs, arquivos CSV, ou sites como o Kaggle.\n",
        "3. **Exploração de Dados:**\n",
        "- Inspeção dos dados: tipos de dados, presença de valores ausentes, outliers, e estatísticas descritivas básicas.\n",
        "4. **Limpeza de Dados:**\n",
        "- Tratamento de dados faltantes, remoção de duplicatas e correção de inconsistências.\n",
        "5. **Visualização de Dados:**\n",
        "- Criação de gráficos para identificar padrões, tendências e correlações entre variáveis.\n",
        "6. **Conclusão e Comunicação:**\n",
        "- Interpretação dos resultados, criação de relatórios e apresentação de insights."
      ],
      "metadata": {
        "id": "rny_vQLmoHr_"
      }
    },
    {
      "cell_type": "markdown",
      "source": [
        "# **Fontes de Dados Utilizadas:**\n",
        "Para esta aula, utilizaremos:\n",
        "- Base de Dados de Aluguel de Bicicletas: [Link no Kaggle](https://www.kaggle.com/datasets/marklvl/bike-sharing-dataset)"
      ],
      "metadata": {
        "id": "orixi0boosjY"
      }
    },
    {
      "cell_type": "markdown",
      "source": [
        "\n",
        "\n",
        "---\n",
        "\n"
      ],
      "metadata": {
        "id": "cREzAfXHo9u3"
      }
    },
    {
      "cell_type": "markdown",
      "source": [
        "# **Conhecendo a Base de Dados**"
      ],
      "metadata": {
        "id": "fVpLZBKFpo7g"
      }
    },
    {
      "cell_type": "markdown",
      "source": [
        "Antes de mais nada, vamos fazer a importação de algumas bibliotecas para as análises dos dados. Estas bibliotecas são comuns na maioria das análises. Caso precise de alguma biblioteca adicional, a mesma pode ser importada nas células abaixo."
      ],
      "metadata": {
        "id": "L7DDF0XVpup9"
      }
    },
    {
      "cell_type": "code",
      "source": [
        "# IMPORTAÇÃO DE BIBLIOTECAS\n",
        "import pandas as pd\n",
        "import matplotlib.pyplot as plt\n",
        "import seaborn as sns"
      ],
      "metadata": {
        "id": "YtfcEgUrqGpl"
      },
      "execution_count": null,
      "outputs": []
    },
    {
      "cell_type": "code",
      "source": [
        "# CARREGAR OS DADOS\n",
        "df = pd.read_csv(\"https://raw.githubusercontent.com/ProfAndersonVanin/aulas_PA_2024/refs/heads/main/bikes_day.csv\")\n",
        "df.head()"
      ],
      "metadata": {
        "id": "n0RxJO6Vq6sF"
      },
      "execution_count": null,
      "outputs": []
    },
    {
      "cell_type": "markdown",
      "source": [
        "## Colunas e significados do dataset:"
      ],
      "metadata": {
        "id": "AquuikoFsML9"
      }
    },
    {
      "cell_type": "markdown",
      "source": [
        "- **instant**: Registro do indice\n",
        "- **dteday**: Data\n",
        "- **season**: Estação do ano (1:primavera, 2:verão, 3:outono, 4:inverno)\n",
        "- **yr**: Ano (0: 2011, 1:2012)\n",
        "- **mnth**: Mês (1 a 12)\n",
        "- **hr**: Horas (0 a 23)\n",
        "- **holiday**: Feriado ou Não\n",
        "- **weekday**: Dia da Semana (0 = segunda-feira, 1 = terça-feira, 2 = quarta-feira, 3 = quinta-feira, 4 = sexta-feira, 5 = sábado, 6 = domingo)\n",
        "- **workingday**: Se o dia não for fim de semana nem feriado será 1, caso contrário será 0.\n",
        "- **weathersit**: (extraído do Freemeteo)\n",
        "  - **1**: Claro, Poucas nuvens, Parcialmente nublado, Parcialmente nublado\n",
        "  - **2**: Névoa + Nublado, Névoa + Nuvens quebradas, Névoa + Poucas nuvens, Névoa\n",
        "  - **3**: Neve fraca, Chuva fraca + Trovoada + Nuvens dispersas, Chuva fraca + Nuvens dispersas\n",
        "  - **4**: Chuva Forte + Paletes de Gelo + Trovoada + Névoa, Neve + Nevoeiro\n",
        "- **temp**: Temperatura normalizada em Celsius. Os valores são derivados via (t-t_min)/(t_max-t_min), t_min=-8, t_max=+39 (somente na escala horária)\n",
        "- **atemp**: Temperatura de sensação normalizada em Celsius. Os valores são derivados via (t-t_min)/(t_max-t_min), t_min=-16, t_max=+50 (somente em escala horária)\n",
        "- **hum**: Umidade normalizada. Os valores são divididos por 100 (máx.)\n",
        "- **windspeed**: Velocidade do vento normalizada. Os valores são divididos por 67 (máx.)\n",
        "- **casual**: contagem de usuários casuais\n",
        "- **registered**: contagem de usuários registrados\n",
        "- **cnt**: contagem do total de bicicletas alugadas, incluindo casuais e registradas"
      ],
      "metadata": {
        "id": "ZS0XZVTYsTIz"
      }
    },
    {
      "cell_type": "markdown",
      "source": [
        "\n",
        "\n",
        "---\n",
        "\n"
      ],
      "metadata": {
        "id": "8EEXyyoCqFoF"
      }
    },
    {
      "cell_type": "markdown",
      "source": [
        "# **1. Definição do Problema:**\n",
        "Qual a questão a ser resolvida? O que esperamos descobrir com a análise?\n",
        "\n",
        "  1. *Como a temperatura influencia o número de bicicletas alugadas ao longo do ano?*\n",
        "  2. *A estação do ano influencia no número de bicicletas alugadas?*\n",
        "  3. *Quais são os dias da semana com maior número de aluguéis?*\n",
        "\n",
        "A análise tem o objetivo de identificar padrões no aluguel de bicicletas com base em variáveis como temperatura, hora do dia e dia da semana. Esperamos descobrir correlações e padrões sazonais ou comportamentais."
      ],
      "metadata": {
        "id": "jdwPSEH8o_dm"
      }
    },
    {
      "cell_type": "markdown",
      "source": [
        "# **2 - Coleta de Dados:**\n",
        "**Fonte de Dados:** A base de dados utilizada é do Kaggle, chamada `Bike Sharing Dataset`. O dataset contém informações sobre o número de bicicletas alugadas em diferentes horários e condições meteorológicas.\n",
        "\n",
        "***Já foi feita nos ítens anteriores!***"
      ],
      "metadata": {
        "id": "LM6bPhiHuugT"
      }
    },
    {
      "cell_type": "markdown",
      "source": [
        "# **3 - Exploração de Dados:**\n",
        "\n",
        "Neste passo, inspecionamos a estrutura dos dados, verificamos a presença de valores faltantes e geramos estatísticas descritivas."
      ],
      "metadata": {
        "id": "vG1Sbf4XvBBC"
      }
    },
    {
      "cell_type": "code",
      "execution_count": null,
      "metadata": {
        "id": "Cgb8akc_nshJ"
      },
      "outputs": [],
      "source": [
        "# Verificando valores faltantes\n",
        "df.isnull().sum()"
      ]
    },
    {
      "cell_type": "code",
      "source": [
        "# Exibindo informações gerais dos dados\n",
        "df.info()"
      ],
      "metadata": {
        "id": "NRdweZ6TvHbw"
      },
      "execution_count": null,
      "outputs": []
    },
    {
      "cell_type": "code",
      "source": [
        "# Estatísticas descritivas\n",
        "df.describe()"
      ],
      "metadata": {
        "id": "hoAYR4SnvJl6"
      },
      "execution_count": null,
      "outputs": []
    },
    {
      "cell_type": "markdown",
      "source": [
        "> *Essa exploração inicial nos permite entender melhor os dados e preparar o terreno para os próximos passos.*\n",
        "😊\n"
      ],
      "metadata": {
        "id": "9jD3SSD1vRlP"
      }
    },
    {
      "cell_type": "markdown",
      "source": [
        "# **4 - Limpeza de Dados:**\n",
        "\n",
        "Limpeza de Dados é o processo de preparar os dados brutos para análise, garantindo que estejam consistentes, corretos e livres de erros. Isso inclui:\n",
        "\n",
        "- **Tratamento de valores faltantes:** Preenchendo ou removendo valores ausentes.\n",
        "Remoção de duplicatas: Eliminando dados duplicados que podem distorcer a análise.\n",
        "- **Correção de inconsistências:** Ajustando formatos incorretos ou padrões de dados que não seguem uma estrutura definida (como datas ou categorias).\n",
        "- **Transformações necessárias:** Criando novas colunas a partir de dados existentes para facilitar a análise, como extrair hora e dia da semana a partir de uma data.\n",
        "Esses passos garantem que a análise seja precisa e confiável."
      ],
      "metadata": {
        "id": "XLnpMMMWvpYA"
      }
    },
    {
      "cell_type": "markdown",
      "source": [
        "# **5 - Visualização de Dados:**\n",
        "Vamos agora criar gráficos para responder às perguntas formuladas na fase de Definição do Problema.\n",
        "\n",
        "**Pergunta 1:** *Como a temperatura influencia o número de bicicletas alugadas?*"
      ],
      "metadata": {
        "id": "qt4izd3Lw6av"
      }
    },
    {
      "cell_type": "code",
      "source": [
        "plt.figure(figsize=(10,6))\n",
        "sns.scatterplot(x='temp', y='cnt', data=df)\n",
        "plt.title('Influência da Temperatura no Aluguel de Bicicletas')\n",
        "plt.xlabel('Temperatura')\n",
        "plt.ylabel('Número de Aluguéis')\n",
        "plt.show()"
      ],
      "metadata": {
        "id": "90NCFyaAwPXy"
      },
      "execution_count": null,
      "outputs": []
    },
    {
      "cell_type": "markdown",
      "source": [
        "Observe o gráfico. Nele temos uma escala de temperatura em °C normalizada. Caso deseje ver em °C você pode voltar no passo 4 e fazer a transformação.\n",
        "\n",
        "Nesta transformação você pode criar uma nova coluna e armazenar os valores novos nela sem a perda da informação original.\n",
        "\n",
        "Do dataset original temos que:\n",
        "\n",
        "- **temp**: Temperatura normalizada em Celsius. Os valores são derivados via (t-t_min)/(t_max-t_min), t_min=-8, t_max=+39 (somente na escala horária)\n",
        "\n",
        "![image.png](data:image/png;base64,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)"
      ],
      "metadata": {
        "id": "EhaXz5EHx6g4"
      }
    },
    {
      "cell_type": "markdown",
      "source": [
        "![image.png](data:image/png;base64,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)"
      ],
      "metadata": {
        "id": "aIOtCDQpyyfe"
      }
    },
    {
      "cell_type": "markdown",
      "source": [
        "**Pergunta 2:** *A estação do ano influencia no número de bicicletas alugadas?*"
      ],
      "metadata": {
        "id": "940OwZ1OyqEP"
      }
    },
    {
      "cell_type": "code",
      "source": [
        "# Gráfico de barras para o número de aluguéis por estação\n",
        "plt.figure(figsize=(10,6))\n",
        "sns.barplot(x='season', y='cnt', data=df)\n",
        "plt.title('Número de Aluguéis por Estação do Ano')\n",
        "plt.xlabel('Estação do Ano')\n",
        "plt.ylabel('Número de Aluguéis')\n",
        "plt.show()"
      ],
      "metadata": {
        "id": "iq5y_7Gk0d-L"
      },
      "execution_count": null,
      "outputs": []
    },
    {
      "cell_type": "markdown",
      "source": [
        "> **Perceba que precisamos de uma legenda para entender quais são as estações do ano. Assim fica difícil para o usuário entender o significado.**\n",
        "\n"
      ],
      "metadata": {
        "id": "6qoG1GFf0aKU"
      }
    },
    {
      "cell_type": "code",
      "source": [
        "# Criando uma coluna para a estação do ano\n",
        "\n",
        "# 1:primavera, 2:verão, 3:outono, 4:inverno\n",
        "\n",
        "def definir_estacao(mes):\n",
        "    if mes == 1:\n",
        "        return 'Primavera'\n",
        "    elif mes == 2:\n",
        "        return 'Verão'\n",
        "    elif mes == 3:\n",
        "        return 'Outono'\n",
        "    else:\n",
        "        return 'Inverno'\n",
        "\n",
        "df['estacao'] = df['season'].apply(definir_estacao)"
      ],
      "metadata": {
        "id": "2U2FmxBX1jvk"
      },
      "execution_count": null,
      "outputs": []
    },
    {
      "cell_type": "code",
      "source": [
        "df.head()"
      ],
      "metadata": {
        "id": "5dLx9pfp63w3"
      },
      "execution_count": null,
      "outputs": []
    },
    {
      "cell_type": "code",
      "source": [
        "df['season'].value_counts()"
      ],
      "metadata": {
        "id": "1V5P-Rq13iNr"
      },
      "execution_count": null,
      "outputs": []
    },
    {
      "cell_type": "code",
      "source": [
        "# Gráfico de barras para o número de aluguéis por estação\n",
        "plt.figure(figsize=(10,6))\n",
        "sns.barplot(x='estacao', y='cnt', data=df)\n",
        "plt.title('Número de Aluguéis por Estação do Ano')\n",
        "plt.xlabel('Estação do Ano')\n",
        "plt.ylabel('Número de Aluguéis')\n",
        "plt.show()"
      ],
      "metadata": {
        "id": "_fZrVx6l2vz6"
      },
      "execution_count": null,
      "outputs": []
    },
    {
      "cell_type": "markdown",
      "source": [
        "**Pergunta 3:** *Quais são os dias da semana com maior número de aluguéis?*"
      ],
      "metadata": {
        "id": "qhuGJlCx5Wj_"
      }
    },
    {
      "cell_type": "code",
      "source": [
        "plt.figure(figsize=(10,6))\n",
        "sns.barplot(x='weekday', y='cnt', data=df)\n",
        "plt.title('Número de Aluguéis por Dia da Semana')\n",
        "plt.xlabel('Dia da Semana')\n",
        "plt.ylabel('Número de Aluguéis')\n",
        "plt.show()"
      ],
      "metadata": {
        "id": "3TJPIBRG5qWJ"
      },
      "execution_count": null,
      "outputs": []
    },
    {
      "cell_type": "markdown",
      "source": [
        "# **6 - Conclusão e Comunicação:**"
      ],
      "metadata": {
        "id": "1HKDwtg27Jlv"
      }
    },
    {
      "cell_type": "markdown",
      "source": [
        "**Conclusão 1: Influência da Temperatura**\n",
        "\n",
        "A partir do gráfico de dispersão, observamos que há uma correlação positiva entre a temperatura e o número de bicicletas alugadas. Quando a temperatura aumenta, o número de aluguéis também cresce. Isso sugere que, em dias mais quentes, as pessoas tendem a alugar mais bicicletas, possivelmente para lazer ou atividades ao ar livre.\n",
        "\n",
        "**Conclusão 2: Influência da Estação do Ano**\n",
        "\n",
        "Aqui descreva sua conclusão. Será que há algo errado com a base de dados?\n",
        "\n",
        "> *Poderíamos ter uma conclusão como por exemplo:* O gráfico de barras mostra que o Verão apresenta o maior número de aluguéis de bicicletas, seguido pela Primavera. O Inverno tem o menor número de aluguéis, o que é esperado, pois o clima frio pode desencorajar o uso de bicicletas. O Outono também apresenta um número reduzido de aluguéis em comparação com as estações mais quentes. Isso sugere que o clima tem um impacto significativo no uso de bicicletas, com a maioria dos usuários optando por alugar durante as estações mais amenas e quentes.\n",
        "\n",
        "**Conclusão 3: Aluguéis por Dia da Semana**\n",
        "\n",
        "0 = segunda-feira, 1 = terça-feira, 2 = quarta-feira, 3 = quinta-feira, 4 = sexta-feira, 5 = sábado, 6 = domingo\n",
        "\n",
        "\n",
        "Aqui descreva sua conclusão. Será que há algo errado com a base de dados?\n",
        "\n",
        "> *Poderíamos ter uma conclusão como por exemplo:*O gráfico de barras revela que os dias úteis (segunda a sexta-feira) têm um número maior de aluguéis em comparação aos fins de semana. Isso sugere que a demanda por bicicletas está mais relacionada com deslocamentos durante dias úteis, enquanto no fim de semana o uso tende a cair."
      ],
      "metadata": {
        "id": "VU8Rw_X67MSN"
      }
    },
    {
      "cell_type": "markdown",
      "source": [
        "\n",
        "\n",
        "---\n",
        "\n"
      ],
      "metadata": {
        "id": "KFszfuRL-C0b"
      }
    },
    {
      "cell_type": "markdown",
      "source": [
        "# **OUTRAS OBSERVAÇÕES**\n",
        "\n",
        "A medida que vamos analisando a base de dados, outras perguntass podem surgir sugerindo outros tipos de observações e/ou gráficos."
      ],
      "metadata": {
        "id": "bXf5OwHCNo1E"
      }
    },
    {
      "cell_type": "markdown",
      "source": [
        "**Pergunta Extra 1:** Quantidade de aluguéis por mês"
      ],
      "metadata": {
        "id": "fjzUEmIMN_qM"
      }
    },
    {
      "cell_type": "code",
      "source": [
        "plt.figure(figsize=(10, 6))\n",
        "sns.barplot(x='mnth', y='cnt', data=df, estimator=sum, hue='mnth', palette='viridis', dodge=False, legend=False)\n",
        "plt.title('Distribuição de Aluguel de Bicicletas por Mês')\n",
        "plt.xlabel('Mês')\n",
        "plt.ylabel('Total de Aluguéis')\n",
        "plt.xticks(rotation=45)\n",
        "plt.show()"
      ],
      "metadata": {
        "id": "fMeHjizDOLqT"
      },
      "execution_count": null,
      "outputs": []
    },
    {
      "cell_type": "markdown",
      "source": [
        "**Pergunta Extra 2:** Quantidade de bicicletas alugadas ao longo do tempo"
      ],
      "metadata": {
        "id": "HK1YWa3hOYWa"
      }
    },
    {
      "cell_type": "code",
      "source": [
        "df.head()"
      ],
      "metadata": {
        "id": "aXMhkHwyQScJ"
      },
      "execution_count": null,
      "outputs": []
    },
    {
      "cell_type": "code",
      "source": [
        "# Passo 1: Garantir que a coluna 'datetime' está no formato datetime\n",
        "df['dteday'] = pd.to_datetime(df['dteday'])\n",
        "\n",
        "# Passo 2: Agrupar os dados por data e contar o número total de aluguéis\n",
        "df['data'] = df['dteday'].dt.date  # Extrair a data\n",
        "alugueis_por_data = df.groupby('data')['cnt'].sum().reset_index()\n",
        "\n",
        "# Passo 3: Visualizar os resultados\n",
        "plt.figure(figsize=(14, 6))\n",
        "sns.lineplot(x='data', y='cnt', data=alugueis_por_data, marker='o')\n",
        "plt.title('Quantidade de Bicicletas Alugadas ao Longo do Tempo')\n",
        "plt.xlabel('Data')\n",
        "plt.ylabel('Número de Aluguéis')\n",
        "plt.xticks(rotation=45)  # Rotaciona as datas para melhor visualização\n",
        "plt.grid()\n",
        "plt.tight_layout()\n",
        "plt.show()"
      ],
      "metadata": {
        "id": "wXeuP1fBOoRr"
      },
      "execution_count": null,
      "outputs": []
    },
    {
      "cell_type": "markdown",
      "source": [
        "**Pergunta Extra 3**: Comparar o total de bicicletas alugadas em diferentes condições climáticas"
      ],
      "metadata": {
        "id": "HEAmPObeQ0qi"
      }
    },
    {
      "cell_type": "code",
      "source": [
        "# Boxplot para comparar o total de bicicletas alugadas em diferentes condições climáticas\n",
        "plt.figure(figsize=(10, 6))\n",
        "sns.boxplot(x='weathersit', y='cnt', data=df)\n",
        "plt.title('Impacto das Condições Climáticas no Aluguel de Bicicletas')\n",
        "plt.xlabel('Condições Climáticas')\n",
        "plt.ylabel('Total de Aluguéis')\n",
        "plt.show()"
      ],
      "metadata": {
        "id": "z0Aj8lR6Q4qX"
      },
      "execution_count": null,
      "outputs": []
    },
    {
      "cell_type": "code",
      "source": [
        "df['weathersit'].unique()"
      ],
      "metadata": {
        "id": "Pe5vgLkSQ-sH"
      },
      "execution_count": null,
      "outputs": []
    },
    {
      "cell_type": "markdown",
      "source": [
        "**Pergunta Extra 4**: Gráfico de barras para comparar o aluguel em dias de feriado e não feriado"
      ],
      "metadata": {
        "id": "N-CepbdjRFFP"
      }
    },
    {
      "cell_type": "code",
      "source": [
        "# Gráfico de barras para comparar o aluguel em dias de feriado e não feriado\n",
        "plt.figure(figsize=(10, 6))\n",
        "sns.barplot(x='holiday', y='cnt', data=df, estimator=sum)\n",
        "plt.title('Impacto dos Feriados no Aluguel de Bicicletas')\n",
        "plt.xlabel('Feriado (1) ou Não (0)')\n",
        "plt.ylabel('Total de Aluguéis')\n",
        "plt.show()"
      ],
      "metadata": {
        "id": "FzhLxbRVRJJn"
      },
      "execution_count": null,
      "outputs": []
    },
    {
      "cell_type": "markdown",
      "source": [
        "**Pergunta Extra 5**: Qual a quantidade de aluguéis por tipo de usuário: Registrado/Casual"
      ],
      "metadata": {
        "id": "VvLZ0QJsRUkG"
      }
    },
    {
      "cell_type": "code",
      "source": [
        "sns.scatterplot(df[['registered', 'casual']])\n",
        "ax2 = plt.twinx()\n",
        "#sns.lineplot((df.temp), color='r')"
      ],
      "metadata": {
        "id": "A_UKHeykRSu3"
      },
      "execution_count": null,
      "outputs": []
    },
    {
      "cell_type": "code",
      "source": [
        "# Gráfico de barras empilhadas para mostrar a proporção de usuários casuais e registrados\n",
        "df_users = df[['casual', 'registered']].sum().reset_index()\n",
        "df_users.columns = ['Tipo de Usuário','Total']\n",
        "df_users.plot(kind='bar', x='Tipo de Usuário', y='Total', stacked=True, figsize=(8, 6), color=['#1f77b4', '#ff7f0e'])\n",
        "plt.title('Composição do Total de Aluguéis')\n",
        "plt.ylabel('Total de Aluguéis')\n",
        "plt.show()"
      ],
      "metadata": {
        "id": "ujXaDhSSRjvv"
      },
      "execution_count": null,
      "outputs": []
    },
    {
      "cell_type": "markdown",
      "source": [
        "**Pergunta Extra 6**: Avaliar a correlação entre variáveis numéricas."
      ],
      "metadata": {
        "id": "mLkZxL5_SqBQ"
      }
    },
    {
      "cell_type": "code",
      "source": [
        "# Passo 2: Calcular a matriz de correlação usando apenas colunas numéricas\n",
        "correlation_matrix = df.select_dtypes(include='number').corr()\n",
        "\n",
        "# Passo 3: Criar o heatmap\n",
        "plt.figure(figsize=(12, 8))\n",
        "sns.heatmap(correlation_matrix, annot=True, fmt=\".2f\", cmap='coolwarm', square=True)\n",
        "plt.title('Matriz de Correlação')\n",
        "plt.show()"
      ],
      "metadata": {
        "id": "6IGtaPHnSxVw"
      },
      "execution_count": null,
      "outputs": []
    },
    {
      "cell_type": "markdown",
      "source": [
        "# **Exercício**"
      ],
      "metadata": {
        "id": "XdPoUBAY-DiS"
      }
    },
    {
      "cell_type": "markdown",
      "source": [
        "Realizar uma análise semelhante em uma base de dados diferente disponível no Kaggle, explorando as principais variáveis e criando gráficos que ajudem a entender os padrões presentes nos dados.\n",
        "\n",
        "Aqui estão alguns links de bases de dados no Kaggle que podem ser utilizadas para o exercício proposto:\n",
        "\n",
        "- **Titanic - Machine Learning from Disaster (Análise de sobreviventes)**:\n",
        "https://www.kaggle.com/c/titanic/data\n",
        "\n",
        "- **House Prices - Advanced Regression Techniques (Preços de casas nos EUA)**:\n",
        "https://www.kaggle.com/c/house-prices-advanced-regression-techniques/data\n",
        "\n",
        "- **Wine Quality Dataset (Avaliação de vinhos)**:\n",
        "https://www.kaggle.com/datasets/uciml/red-wine-quality-cortez-et-al-2009\n",
        "\n",
        "- **Global Superstore Dataset (Vendas globais de uma loja)**:\n",
        "https://www.kaggle.com/datasets/rohitsahoo/sales-forecasting\n",
        "\n",
        "- **Airbnb New York City Listings (Aluguéis de curta duração em NYC)**:\n",
        "https://www.kaggle.com/datasets/dgomonov/new-york-city-airbnb-open-data"
      ],
      "metadata": {
        "id": "M8zrUN3J-QRT"
      }
    }
  ]
}